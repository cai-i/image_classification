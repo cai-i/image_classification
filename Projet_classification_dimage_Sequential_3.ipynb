{
  "nbformat": 4,
  "nbformat_minor": 0,
  "metadata": {
    "colab": {
      "provenance": []
    },
    "kernelspec": {
      "name": "python3",
      "display_name": "Python 3"
    },
    "language_info": {
      "name": "python"
    },
    "gpuClass": "standard",
    "accelerator": "GPU"
  },
  "cells": [
    {
      "cell_type": "code",
      "execution_count": 1,
      "metadata": {
        "id": "_3Ruzp67NbQa"
      },
      "outputs": [],
      "source": [
        "import numpy as np\n",
        "import matplotlib.pyplot as plt\n",
        "from sklearn.utils import shuffle\n",
        "\n",
        "# pour accéder aux fichiers\n",
        "import os\n",
        "# faire des opérations sur images\n",
        "import cv2\n",
        "# pour afficher images\n",
        "import PIL\n",
        "\n",
        "import tensorflow as tf\n",
        "from tensorflow import keras\n",
        "from tensorflow.keras import layers\n",
        "\n",
        "# afficher predictions\n",
        "from sklearn.metrics import classification_report"
      ]
    },
    {
      "cell_type": "code",
      "source": [
        "import pathlib\n",
        "import zipfile\n",
        "import tensorflow as tf\n",
        "\n",
        "urls = [\"https://github.com/cai-i/image_classification/raw/train_test/resized_images.zip\"] \n",
        "for url in urls :\n",
        "  data_dir = tf.keras.utils.get_file(origin=url, extract=False)\n",
        "\n",
        "  with zipfile.ZipFile(data_dir, 'r') as zip_ref:\n",
        "    zip_ref.extractall('/content/datasets')"
      ],
      "metadata": {
        "colab": {
          "base_uri": "https://localhost:8080/"
        },
        "id": "5DqgORS3r6fO",
        "outputId": "ca8cbcc8-63da-4fcc-9ef4-9f1ad4d9addf"
      },
      "execution_count": 2,
      "outputs": [
        {
          "output_type": "stream",
          "name": "stdout",
          "text": [
            "Downloading data from https://github.com/cai-i/image_classification/raw/train_test/resized_images.zip\n",
            "56207202/56207202 [==============================] - 1s 0us/step\n"
          ]
        }
      ]
    },
    {
      "cell_type": "code",
      "source": [
        "data_dir = pathlib.Path('/content/datasets/resized_images')\n",
        "train_dir = pathlib.Path('/content/datasets/resized_images/train')\n",
        "val_dir = pathlib.Path('/content/datasets/resized_images/val')\n",
        "test_dir = pathlib.Path('/content/datasets/resized_images/test')"
      ],
      "metadata": {
        "id": "MFp0yfhOr6hr"
      },
      "execution_count": 3,
      "outputs": []
    },
    {
      "cell_type": "code",
      "source": [
        "class_names = ['abeille', 'guepe', 'frelon']\n",
        "class_names_label = { class_name:i for i, class_name in enumerate(class_names)}\n",
        "\n",
        "print(class_names_label)"
      ],
      "metadata": {
        "colab": {
          "base_uri": "https://localhost:8080/"
        },
        "id": "fmAqnaK3r6j8",
        "outputId": "d36caa22-4f2b-4d1b-83fa-8bbb8a2bd304"
      },
      "execution_count": 4,
      "outputs": [
        {
          "output_type": "stream",
          "name": "stdout",
          "text": [
            "{'abeille': 0, 'guepe': 1, 'frelon': 2}\n"
          ]
        }
      ]
    },
    {
      "cell_type": "code",
      "source": [
        "def load_data():\n",
        "\n",
        "  dir = '/content/datasets/resized_images/'\n",
        "  datasets = ['train', 'val', 'test']\n",
        "\n",
        "  output = []\n",
        "\n",
        "  for dataset in datasets:\n",
        "    path = os.path.join(dir, dataset)\n",
        "    images=[]\n",
        "    labels=[]\n",
        "\n",
        "    for category in os.listdir(path):\n",
        "      label= class_names_label[category]\n",
        "      cat_path = os.path.join(path, category)\n",
        "\n",
        "      for img in os.listdir(cat_path):\n",
        "        img_path = os.path.join(cat_path, img)\n",
        "        image = cv2.imread(img_path)\n",
        "        image = cv2.cvtColor(image, cv2.COLOR_BGR2RGB)\n",
        "        # append to lists\n",
        "        images.append(image)\n",
        "        labels.append(label)\n",
        "    \n",
        "    images = np.array(images, dtype='float32')\n",
        "    labels = np.array(labels, dtype = 'int32')\n",
        "\n",
        "    output.append((images, labels))\n",
        "\n",
        "  return output"
      ],
      "metadata": {
        "id": "srRJFd7Lr6mu"
      },
      "execution_count": 5,
      "outputs": []
    },
    {
      "cell_type": "code",
      "source": [
        "(train_imgs, train_labels), (val_imgs, val_labels), (test_imgs, test_labels) = load_data()"
      ],
      "metadata": {
        "id": "TXrBvzxSr6os"
      },
      "execution_count": 6,
      "outputs": []
    },
    {
      "cell_type": "code",
      "source": [],
      "metadata": {
        "id": "3RFZbCVcr6rE"
      },
      "execution_count": 6,
      "outputs": []
    },
    {
      "cell_type": "code",
      "source": [
        "# nb de classes\n",
        "nb_classes = 3\n",
        "\n",
        "model = tf.keras.Sequential([\n",
        "    # Convolution avec 16 neuronnes\n",
        "    layers.Conv2D(16, 3, padding='same', activation='relu'),\n",
        "    # Pooling : réduit notre image pour avoir un jeu de donnée plus petit\n",
        "    layers.MaxPooling2D(),\n",
        "    layers.Conv2D(32, 3, padding='same', activation='relu'),\n",
        "    layers.MaxPooling2D(),\n",
        "    layers.Conv2D(64, 3, padding='same', activation='relu'),\n",
        "    layers.MaxPooling2D(),\n",
        "    # Flatten : construit un vecteur à partir de notre matrice\n",
        "    layers.Flatten(),    \n",
        "    layers.Dense(128, activation='relu'),\n",
        "    # softmax pour avoir la probabilité entre nos différentes classes\n",
        "    layers.Dense(nb_classes, activation=tf.nn.softmax)\n",
        "])"
      ],
      "metadata": {
        "id": "pp1fJmzGr6t7"
      },
      "execution_count": 7,
      "outputs": []
    },
    {
      "cell_type": "code",
      "source": [
        "model.compile(\n",
        "    optimizer='adam',\n",
        "    loss= 'sparse_categorical_crossentropy',\n",
        "    metrics=['accuracy']\n",
        ")"
      ],
      "metadata": {
        "id": "YYZnivs2sa2O"
      },
      "execution_count": 8,
      "outputs": []
    },
    {
      "cell_type": "code",
      "source": [
        "history = model.fit(\n",
        "    train_imgs,\n",
        "    train_labels,\n",
        "    batch_size= 32,\n",
        "    epochs=20,\n",
        "    validation_data= (val_imgs,val_labels))"
      ],
      "metadata": {
        "colab": {
          "base_uri": "https://localhost:8080/"
        },
        "id": "wUtz0Kynsa4s",
        "outputId": "f1d24fb5-65ff-43d8-b83c-3bb6503a5e7e"
      },
      "execution_count": 10,
      "outputs": [
        {
          "output_type": "stream",
          "name": "stdout",
          "text": [
            "Epoch 1/20\n",
            "99/99 [==============================] - 15s 60ms/step - loss: 40.7147 - accuracy: 0.3784 - val_loss: 1.0704 - val_accuracy: 0.3644\n",
            "Epoch 2/20\n",
            "99/99 [==============================] - 5s 50ms/step - loss: 0.9613 - accuracy: 0.5152 - val_loss: 0.8940 - val_accuracy: 0.6252\n",
            "Epoch 3/20\n",
            "99/99 [==============================] - 5s 49ms/step - loss: 0.6267 - accuracy: 0.7473 - val_loss: 0.8894 - val_accuracy: 0.6489\n",
            "Epoch 4/20\n",
            "99/99 [==============================] - 5s 50ms/step - loss: 0.3557 - accuracy: 0.8717 - val_loss: 0.8276 - val_accuracy: 0.7007\n",
            "Epoch 5/20\n",
            "99/99 [==============================] - 5s 49ms/step - loss: 0.1629 - accuracy: 0.9460 - val_loss: 0.9859 - val_accuracy: 0.7170\n",
            "Epoch 6/20\n",
            "99/99 [==============================] - 5s 49ms/step - loss: 0.1140 - accuracy: 0.9740 - val_loss: 1.1456 - val_accuracy: 0.7141\n",
            "Epoch 7/20\n",
            "99/99 [==============================] - 5s 50ms/step - loss: 0.0630 - accuracy: 0.9841 - val_loss: 1.1589 - val_accuracy: 0.7156\n",
            "Epoch 8/20\n",
            "99/99 [==============================] - 5s 50ms/step - loss: 0.0150 - accuracy: 0.9978 - val_loss: 1.2319 - val_accuracy: 0.7274\n",
            "Epoch 9/20\n",
            "99/99 [==============================] - 5s 54ms/step - loss: 0.0031 - accuracy: 1.0000 - val_loss: 1.4280 - val_accuracy: 0.7170\n",
            "Epoch 10/20\n",
            "99/99 [==============================] - 5s 50ms/step - loss: 0.0015 - accuracy: 1.0000 - val_loss: 1.5357 - val_accuracy: 0.7185\n",
            "Epoch 11/20\n",
            "99/99 [==============================] - 5s 50ms/step - loss: 8.3869e-04 - accuracy: 1.0000 - val_loss: 1.6177 - val_accuracy: 0.7244\n",
            "Epoch 12/20\n",
            "99/99 [==============================] - 5s 51ms/step - loss: 5.7429e-04 - accuracy: 1.0000 - val_loss: 1.6725 - val_accuracy: 0.7185\n",
            "Epoch 13/20\n",
            "99/99 [==============================] - 5s 53ms/step - loss: 4.2169e-04 - accuracy: 1.0000 - val_loss: 1.7446 - val_accuracy: 0.7215\n",
            "Epoch 14/20\n",
            "99/99 [==============================] - 5s 50ms/step - loss: 3.1921e-04 - accuracy: 1.0000 - val_loss: 1.7973 - val_accuracy: 0.7141\n",
            "Epoch 15/20\n",
            "99/99 [==============================] - 5s 50ms/step - loss: 2.4684e-04 - accuracy: 1.0000 - val_loss: 1.8709 - val_accuracy: 0.7170\n",
            "Epoch 16/20\n",
            "99/99 [==============================] - 5s 50ms/step - loss: 1.9395e-04 - accuracy: 1.0000 - val_loss: 1.9006 - val_accuracy: 0.7185\n",
            "Epoch 17/20\n",
            "99/99 [==============================] - 5s 50ms/step - loss: 1.5250e-04 - accuracy: 1.0000 - val_loss: 1.9492 - val_accuracy: 0.7170\n",
            "Epoch 18/20\n",
            "99/99 [==============================] - 5s 50ms/step - loss: 1.2471e-04 - accuracy: 1.0000 - val_loss: 1.9917 - val_accuracy: 0.7126\n",
            "Epoch 19/20\n",
            "99/99 [==============================] - 5s 50ms/step - loss: 1.0265e-04 - accuracy: 1.0000 - val_loss: 2.0332 - val_accuracy: 0.7141\n",
            "Epoch 20/20\n",
            "99/99 [==============================] - 5s 49ms/step - loss: 8.4164e-05 - accuracy: 1.0000 - val_loss: 2.0844 - val_accuracy: 0.7141\n"
          ]
        }
      ]
    },
    {
      "cell_type": "code",
      "source": [
        "# pour voir intégralité de notre réseau de neuronnes\n",
        "model.summary()"
      ],
      "metadata": {
        "colab": {
          "base_uri": "https://localhost:8080/"
        },
        "id": "hgntASefq1NU",
        "outputId": "f4ed72eb-7530-42fc-8f9c-bff2737f1fdf"
      },
      "execution_count": 11,
      "outputs": [
        {
          "output_type": "stream",
          "name": "stdout",
          "text": [
            "Model: \"sequential\"\n",
            "_________________________________________________________________\n",
            " Layer (type)                Output Shape              Param #   \n",
            "=================================================================\n",
            " conv2d (Conv2D)             (None, 256, 256, 16)      448       \n",
            "                                                                 \n",
            " max_pooling2d (MaxPooling2D  (None, 128, 128, 16)     0         \n",
            " )                                                               \n",
            "                                                                 \n",
            " conv2d_1 (Conv2D)           (None, 128, 128, 32)      4640      \n",
            "                                                                 \n",
            " max_pooling2d_1 (MaxPooling  (None, 64, 64, 32)       0         \n",
            " 2D)                                                             \n",
            "                                                                 \n",
            " conv2d_2 (Conv2D)           (None, 64, 64, 64)        18496     \n",
            "                                                                 \n",
            " max_pooling2d_2 (MaxPooling  (None, 32, 32, 64)       0         \n",
            " 2D)                                                             \n",
            "                                                                 \n",
            " flatten (Flatten)           (None, 65536)             0         \n",
            "                                                                 \n",
            " dense (Dense)               (None, 128)               8388736   \n",
            "                                                                 \n",
            " dense_1 (Dense)             (None, 3)                 387       \n",
            "                                                                 \n",
            "=================================================================\n",
            "Total params: 8,412,707\n",
            "Trainable params: 8,412,707\n",
            "Non-trainable params: 0\n",
            "_________________________________________________________________\n"
          ]
        }
      ]
    },
    {
      "cell_type": "code",
      "source": [
        "import matplotlib.pyplot as plt\n",
        "accuracy = history.history[\"accuracy\"]\n",
        "val_accuracy = history.history[\"val_accuracy\"]\n",
        "loss = history.history[\"loss\"]\n",
        "val_loss = history.history[\"val_loss\"]\n",
        "epochs = range(1, len(accuracy) + 1)\n",
        "plt.plot(epochs, accuracy, \"bo\", label=\"Training accuracy\")\n",
        "plt.plot(epochs, val_accuracy, \"b\", label=\"Validation accuracy\")\n",
        "plt.xlabel(\"epochs\")\n",
        "plt.ylabel(\"accuracy\")\n",
        "plt.title(\"Training and validation accuracy\")\n",
        "plt.legend()\n",
        "plt.figure()\n",
        "plt.plot(epochs, loss, \"bo\", label=\"Training loss\")\n",
        "plt.plot(epochs, val_loss, \"b\", label=\"Validation loss\")\n",
        "plt.xlabel(\"epochs\")\n",
        "plt.ylabel(\"loss\")\n",
        "plt.title(\"Training and validation loss\")\n",
        "plt.legend()\n",
        "plt.show()"
      ],
      "metadata": {
        "colab": {
          "base_uri": "https://localhost:8080/",
          "height": 573
        },
        "id": "H6cKDtEnsa7N",
        "outputId": "a808f3ac-6b00-412d-b993-286410e18404"
      },
      "execution_count": 12,
      "outputs": [
        {
          "output_type": "display_data",
          "data": {
            "text/plain": [
              "<Figure size 432x288 with 1 Axes>"
            ],
            "image/png": "[encoded data removed]"
          },
          "metadata": {
            "needs_background": "light"
          }
        },
        {
          "output_type": "display_data",
          "data": {
            "text/plain": [
              "<Figure size 432x288 with 1 Axes>"
            ],
            "image/png": "[encoded data removed]"
          },
          "metadata": {
            "needs_background": "light"
          }
        }
      ]
    },
    {
      "cell_type": "code",
      "source": [],
      "metadata": {
        "id": "9-45uLT0r6wj"
      },
      "execution_count": 12,
      "outputs": []
    },
    {
      "cell_type": "code",
      "source": [
        "test_loss = model.evaluate(test_imgs, test_labels)"
      ],
      "metadata": {
        "colab": {
          "base_uri": "https://localhost:8080/"
        },
        "id": "W7BRNx0JtpcG",
        "outputId": "e4c10110-674b-49c2-890c-cf1c3a3756f9"
      },
      "execution_count": 13,
      "outputs": [
        {
          "output_type": "stream",
          "name": "stdout",
          "text": [
            "22/22 [==============================] - 1s 27ms/step - loss: 2.2878 - accuracy: 0.6815\n"
          ]
        }
      ]
    },
    {
      "cell_type": "code",
      "source": [
        "predictions = model.predict(test_imgs)\n",
        "pred_labels = np.argmax(predictions, axis=1)\n",
        "\n",
        "print(classification_report(test_labels, pred_labels))"
      ],
      "metadata": {
        "colab": {
          "base_uri": "https://localhost:8080/"
        },
        "id": "kqqxX1edtpe6",
        "outputId": "68cbe6f1-a0b6-4090-b99d-669ca6f9e21d"
      },
      "execution_count": 14,
      "outputs": [
        {
          "output_type": "stream",
          "name": "stdout",
          "text": [
            "22/22 [==============================] - 1s 22ms/step\n",
            "              precision    recall  f1-score   support\n",
            "\n",
            "           0       0.68      0.64      0.66       225\n",
            "           1       0.64      0.66      0.65       225\n",
            "           2       0.72      0.75      0.74       225\n",
            "\n",
            "    accuracy                           0.68       675\n",
            "   macro avg       0.68      0.68      0.68       675\n",
            "weighted avg       0.68      0.68      0.68       675\n",
            "\n"
          ]
        }
      ]
    },
    {
      "cell_type": "code",
      "source": [],
      "metadata": {
        "id": "ZnpJFIFQr61W"
      },
      "execution_count": null,
      "outputs": []
    }
  ]
}