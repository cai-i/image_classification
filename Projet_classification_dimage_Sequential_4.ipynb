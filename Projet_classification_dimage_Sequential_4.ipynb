{
  "nbformat": 4,
  "nbformat_minor": 0,
  "metadata": {
    "colab": {
      "provenance": []
    },
    "kernelspec": {
      "name": "python3",
      "display_name": "Python 3"
    },
    "language_info": {
      "name": "python"
    },
    "gpuClass": "standard",
    "accelerator": "GPU"
  },
  "cells": [
    {
      "cell_type": "code",
      "execution_count": 1,
      "metadata": {
        "id": "zbWi1SgbRo5Z"
      },
      "outputs": [],
      "source": [
        "import numpy as np\n",
        "import matplotlib.pyplot as plt\n",
        "from sklearn.utils import shuffle\n",
        "\n",
        "# pour accéder aux fichiers\n",
        "import os\n",
        "# faire des opérations sur images\n",
        "import cv2\n",
        "# pour afficher images\n",
        "import PIL\n",
        "\n",
        "import tensorflow as tf\n",
        "from tensorflow import keras\n",
        "from tensorflow.keras import layers\n",
        "\n",
        "# afficher predictions\n",
        "from sklearn.metrics import classification_report"
      ]
    },
    {
      "cell_type": "code",
      "source": [
        "import pathlib\n",
        "import zipfile\n",
        "import tensorflow as tf\n",
        "\n",
        "urls = [\"https://github.com/cai-i/image_classification/raw/train_test/resized_images.zip\"] \n",
        "for url in urls :\n",
        "  data_dir = tf.keras.utils.get_file(origin=url, extract=False)\n",
        "\n",
        "  with zipfile.ZipFile(data_dir, 'r') as zip_ref:\n",
        "    zip_ref.extractall('/content/datasets')"
      ],
      "metadata": {
        "colab": {
          "base_uri": "https://localhost:8080/"
        },
        "id": "ODZoNJ3eSUo2",
        "outputId": "e0b6e924-d519-40b7-8ed1-4964faf5c507"
      },
      "execution_count": 2,
      "outputs": [
        {
          "output_type": "stream",
          "name": "stdout",
          "text": [
            "Downloading data from https://github.com/cai-i/image_classification/raw/train_test/resized_images.zip\n",
            "56207202/56207202 [==============================] - 1s 0us/step\n"
          ]
        }
      ]
    },
    {
      "cell_type": "code",
      "source": [
        "data_dir = pathlib.Path('/content/datasets/resized_images')\n",
        "train_dir = pathlib.Path('/content/datasets/resized_images/train')\n",
        "val_dir = pathlib.Path('/content/datasets/resized_images/val')\n",
        "test_dir = pathlib.Path('/content/datasets/resized_images/test')"
      ],
      "metadata": {
        "id": "UPLWfSvDSXdS"
      },
      "execution_count": 3,
      "outputs": []
    },
    {
      "cell_type": "code",
      "source": [
        "class_names = ['abeille', 'guepe', 'frelon']\n",
        "class_names_label = { class_name:i for i, class_name in enumerate(class_names)}\n",
        "\n",
        "print(class_names_label)"
      ],
      "metadata": {
        "colab": {
          "base_uri": "https://localhost:8080/"
        },
        "id": "ZtMdniW3SXgM",
        "outputId": "55ca46b0-1814-47de-a848-0b5a07af67d8"
      },
      "execution_count": 4,
      "outputs": [
        {
          "output_type": "stream",
          "name": "stdout",
          "text": [
            "{'abeille': 0, 'guepe': 1, 'frelon': 2}\n"
          ]
        }
      ]
    },
    {
      "cell_type": "code",
      "source": [
        "def load_data():\n",
        "\n",
        "  dir = '/content/datasets/resized_images/'\n",
        "  datasets = ['train', 'val', 'test']\n",
        "\n",
        "  output = []\n",
        "\n",
        "  for dataset in datasets:\n",
        "    path = os.path.join(dir, dataset)\n",
        "    images=[]\n",
        "    labels=[]\n",
        "\n",
        "    for category in os.listdir(path):\n",
        "      label= class_names_label[category]\n",
        "      cat_path = os.path.join(path, category)\n",
        "\n",
        "      for img in os.listdir(cat_path):\n",
        "        img_path = os.path.join(cat_path, img)\n",
        "        image = cv2.imread(img_path)\n",
        "        image = cv2.cvtColor(image, cv2.COLOR_BGR2RGB)\n",
        "        # append to lists\n",
        "        images.append(image)\n",
        "        labels.append(label)\n",
        "    \n",
        "    images = np.array(images, dtype='float32')\n",
        "    labels = np.array(labels, dtype = 'int32')\n",
        "\n",
        "    output.append((images, labels))\n",
        "\n",
        "  return output"
      ],
      "metadata": {
        "id": "NIU6dORcSXi4"
      },
      "execution_count": 5,
      "outputs": []
    },
    {
      "cell_type": "code",
      "source": [
        "(train_imgs, train_labels), (val_imgs, val_labels), (test_imgs, test_labels) = load_data()"
      ],
      "metadata": {
        "id": "gqMfVhMJSXmS"
      },
      "execution_count": 6,
      "outputs": []
    },
    {
      "cell_type": "code",
      "source": [],
      "metadata": {
        "id": "4gIkkv52SXqq"
      },
      "execution_count": 6,
      "outputs": []
    },
    {
      "cell_type": "markdown",
      "source": [
        "**模型结构**\n",
        "\n",
        "\n",
        "\n",
        "我将使用拥有 3 个卷积/池化层和 2 个全连接层的 CNN。3 个卷积层将分别使用 32，32，64 的 3 * 3的滤波器（fiter）。在两个全连接层，我使用了 dropout 来避免过拟合。"
      ],
      "metadata": {
        "id": "vD_VA0OCa54g"
      }
    },
    {
      "cell_type": "code",
      "source": [
        "from keras.engine.sequential import Sequential\n",
        "model = Sequential()\n",
        "\n",
        "model.add(layers.Conv2D(32,(3,3), input_shape=(256,256,3), activation='relu'))\n",
        "model.add(layers.MaxPooling2D(pool_size=(2,2)))\n",
        "\n",
        "model.add(layers.Conv2D(32,(3,3), activation='relu'))\n",
        "model.add(layers.MaxPooling2D(pool_size=(2,2)))\n",
        "\n",
        "model.add(layers.Conv2D(64,(3,3), activation='relu'))\n",
        "model.add(layers.MaxPooling2D(pool_size=(2,2)))\n",
        "\n",
        "model.add(layers.Flatten())\n",
        "model.add(layers.Dropout(0.5))\n",
        "model.add(layers.Dense(64, activation='relu'))\n",
        "model.add(layers.Dense(3, activation='softmax'))"
      ],
      "metadata": {
        "id": "iyQfWJMmSYQ8"
      },
      "execution_count": 7,
      "outputs": []
    },
    {
      "cell_type": "code",
      "source": [
        "model.compile(\n",
        "    optimizer='adam',\n",
        "    loss= 'sparse_categorical_crossentropy',\n",
        "    metrics=['accuracy']\n",
        ")"
      ],
      "metadata": {
        "id": "8bmzp7KicaYJ"
      },
      "execution_count": 8,
      "outputs": []
    },
    {
      "cell_type": "code",
      "source": [
        "model.summary()"
      ],
      "metadata": {
        "colab": {
          "base_uri": "https://localhost:8080/"
        },
        "id": "p9mJXPbMcabc",
        "outputId": "8e13108b-5dc7-4882-bf9f-3c0c257ea5f9"
      },
      "execution_count": 9,
      "outputs": [
        {
          "output_type": "stream",
          "name": "stdout",
          "text": [
            "Model: \"sequential\"\n",
            "_________________________________________________________________\n",
            " Layer (type)                Output Shape              Param #   \n",
            "=================================================================\n",
            " conv2d (Conv2D)             (None, 254, 254, 32)      896       \n",
            "                                                                 \n",
            " max_pooling2d (MaxPooling2D  (None, 127, 127, 32)     0         \n",
            " )                                                               \n",
            "                                                                 \n",
            " conv2d_1 (Conv2D)           (None, 125, 125, 32)      9248      \n",
            "                                                                 \n",
            " max_pooling2d_1 (MaxPooling  (None, 62, 62, 32)       0         \n",
            " 2D)                                                             \n",
            "                                                                 \n",
            " conv2d_2 (Conv2D)           (None, 60, 60, 64)        18496     \n",
            "                                                                 \n",
            " max_pooling2d_2 (MaxPooling  (None, 30, 30, 64)       0         \n",
            " 2D)                                                             \n",
            "                                                                 \n",
            " flatten (Flatten)           (None, 57600)             0         \n",
            "                                                                 \n",
            " dropout (Dropout)           (None, 57600)             0         \n",
            "                                                                 \n",
            " dense (Dense)               (None, 64)                3686464   \n",
            "                                                                 \n",
            " dense_1 (Dense)             (None, 3)                 195       \n",
            "                                                                 \n",
            "=================================================================\n",
            "Total params: 3,715,299\n",
            "Trainable params: 3,715,299\n",
            "Non-trainable params: 0\n",
            "_________________________________________________________________\n"
          ]
        }
      ]
    },
    {
      "cell_type": "code",
      "source": [],
      "metadata": {
        "id": "Yd_uEOwLdnWV"
      },
      "execution_count": 9,
      "outputs": []
    },
    {
      "cell_type": "code",
      "source": [
        "history = model.fit(\n",
        "    train_imgs,\n",
        "    train_labels,\n",
        "    batch_size= 32,\n",
        "    epochs = 20,\n",
        "    validation_data = (val_imgs, val_labels)\n",
        ")"
      ],
      "metadata": {
        "colab": {
          "base_uri": "https://localhost:8080/"
        },
        "id": "p1af_lE0dnY7",
        "outputId": "c92aec54-99d9-4dcd-f4ff-5e69d9f58042"
      },
      "execution_count": 10,
      "outputs": [
        {
          "output_type": "stream",
          "name": "stdout",
          "text": [
            "Epoch 1/20\n",
            "99/99 [==============================] - 17s 73ms/step - loss: 38.8049 - accuracy: 0.3971 - val_loss: 1.0542 - val_accuracy: 0.3541\n",
            "Epoch 2/20\n",
            "99/99 [==============================] - 6s 62ms/step - loss: 0.9995 - accuracy: 0.4695 - val_loss: 1.1623 - val_accuracy: 0.5185\n",
            "Epoch 3/20\n",
            "99/99 [==============================] - 6s 62ms/step - loss: 0.8523 - accuracy: 0.5975 - val_loss: 1.2228 - val_accuracy: 0.5467\n",
            "Epoch 4/20\n",
            "99/99 [==============================] - 6s 62ms/step - loss: 0.7107 - accuracy: 0.6838 - val_loss: 1.1425 - val_accuracy: 0.5496\n",
            "Epoch 5/20\n",
            "99/99 [==============================] - 6s 63ms/step - loss: 0.5702 - accuracy: 0.7641 - val_loss: 0.9931 - val_accuracy: 0.6015\n",
            "Epoch 6/20\n",
            "99/99 [==============================] - 6s 62ms/step - loss: 0.4619 - accuracy: 0.8298 - val_loss: 1.0835 - val_accuracy: 0.5941\n",
            "Epoch 7/20\n",
            "99/99 [==============================] - 6s 62ms/step - loss: 0.3696 - accuracy: 0.8625 - val_loss: 1.1713 - val_accuracy: 0.5956\n",
            "Epoch 8/20\n",
            "99/99 [==============================] - 6s 63ms/step - loss: 0.3841 - accuracy: 0.8578 - val_loss: 1.2708 - val_accuracy: 0.6000\n",
            "Epoch 9/20\n",
            "99/99 [==============================] - 6s 65ms/step - loss: 0.2917 - accuracy: 0.8956 - val_loss: 1.2456 - val_accuracy: 0.5748\n",
            "Epoch 10/20\n",
            "99/99 [==============================] - 6s 63ms/step - loss: 0.1991 - accuracy: 0.9286 - val_loss: 1.8216 - val_accuracy: 0.5496\n",
            "Epoch 11/20\n",
            "99/99 [==============================] - 6s 63ms/step - loss: 0.2252 - accuracy: 0.9263 - val_loss: 1.5696 - val_accuracy: 0.6074\n",
            "Epoch 12/20\n",
            "99/99 [==============================] - 6s 63ms/step - loss: 0.1852 - accuracy: 0.9403 - val_loss: 1.6238 - val_accuracy: 0.6044\n",
            "Epoch 13/20\n",
            "99/99 [==============================] - 6s 63ms/step - loss: 0.1871 - accuracy: 0.9400 - val_loss: 1.5037 - val_accuracy: 0.5867\n",
            "Epoch 14/20\n",
            "99/99 [==============================] - 6s 64ms/step - loss: 0.1582 - accuracy: 0.9486 - val_loss: 1.6461 - val_accuracy: 0.5807\n",
            "Epoch 15/20\n",
            "99/99 [==============================] - 6s 62ms/step - loss: 0.1362 - accuracy: 0.9616 - val_loss: 1.7457 - val_accuracy: 0.5822\n",
            "Epoch 16/20\n",
            "99/99 [==============================] - 6s 63ms/step - loss: 0.0949 - accuracy: 0.9717 - val_loss: 1.7332 - val_accuracy: 0.5926\n",
            "Epoch 17/20\n",
            "99/99 [==============================] - 6s 63ms/step - loss: 0.0749 - accuracy: 0.9787 - val_loss: 1.9030 - val_accuracy: 0.5941\n",
            "Epoch 18/20\n",
            "99/99 [==============================] - 6s 63ms/step - loss: 0.0864 - accuracy: 0.9730 - val_loss: 1.8119 - val_accuracy: 0.6222\n",
            "Epoch 19/20\n",
            "99/99 [==============================] - 6s 63ms/step - loss: 0.1667 - accuracy: 0.9483 - val_loss: 1.9240 - val_accuracy: 0.5496\n",
            "Epoch 20/20\n",
            "99/99 [==============================] - 6s 63ms/step - loss: 0.1839 - accuracy: 0.9419 - val_loss: 1.5784 - val_accuracy: 0.5941\n"
          ]
        }
      ]
    },
    {
      "cell_type": "code",
      "source": [
        "import matplotlib.pyplot as plt\n",
        "accuracy = history.history[\"accuracy\"]\n",
        "val_accuracy = history.history[\"val_accuracy\"]\n",
        "loss = history.history[\"loss\"]\n",
        "val_loss = history.history[\"val_loss\"]\n",
        "epochs = range(1, len(accuracy) + 1)\n",
        "plt.plot(epochs, accuracy, \"bo\", label=\"Training accuracy\")\n",
        "plt.plot(epochs, val_accuracy, \"b\", label=\"Validation accuracy\")\n",
        "plt.xlabel(\"epochs\")\n",
        "plt.ylabel(\"accuracy\")\n",
        "plt.title(\"Training and validation accuracy\")\n",
        "plt.legend()\n",
        "plt.figure()\n",
        "plt.plot(epochs, loss, \"bo\", label=\"Training loss\")\n",
        "plt.plot(epochs, val_loss, \"b\", label=\"Validation loss\")\n",
        "plt.xlabel(\"epochs\")\n",
        "plt.ylabel(\"loss\")\n",
        "plt.title(\"Training and validation loss\")\n",
        "plt.legend()\n",
        "plt.show()"
      ],
      "metadata": {
        "colab": {
          "base_uri": "https://localhost:8080/",
          "height": 573
        },
        "id": "t8khq5PoftzU",
        "outputId": "646a6582-3a08-44d5-e5fa-b12cd6bc8347"
      },
      "execution_count": 11,
      "outputs": [
        {
          "output_type": "display_data",
          "data": {
            "text/plain": [
              "<Figure size 432x288 with 1 Axes>"
            ],
            "image/png": "[encoded data removed]"
          },
          "metadata": {
            "needs_background": "light"
          }
        },
        {
          "output_type": "display_data",
          "data": {
            "text/plain": [
              "<Figure size 432x288 with 1 Axes>"
            ],
            "image/png": "[encoded data removed]"
          },
          "metadata": {
            "needs_background": "light"
          }
        }
      ]
    },
    {
      "cell_type": "code",
      "source": [
        "# pour voir intégralité de notre réseau de neuronnes\n",
        "model.summary()"
      ],
      "metadata": {
        "colab": {
          "base_uri": "https://localhost:8080/"
        },
        "id": "b7AsfEyTft2M",
        "outputId": "8fb0ec22-55c9-44cc-8c36-fd09b74c7e6b"
      },
      "execution_count": 12,
      "outputs": [
        {
          "output_type": "stream",
          "name": "stdout",
          "text": [
            "Model: \"sequential\"\n",
            "_________________________________________________________________\n",
            " Layer (type)                Output Shape              Param #   \n",
            "=================================================================\n",
            " conv2d (Conv2D)             (None, 254, 254, 32)      896       \n",
            "                                                                 \n",
            " max_pooling2d (MaxPooling2D  (None, 127, 127, 32)     0         \n",
            " )                                                               \n",
            "                                                                 \n",
            " conv2d_1 (Conv2D)           (None, 125, 125, 32)      9248      \n",
            "                                                                 \n",
            " max_pooling2d_1 (MaxPooling  (None, 62, 62, 32)       0         \n",
            " 2D)                                                             \n",
            "                                                                 \n",
            " conv2d_2 (Conv2D)           (None, 60, 60, 64)        18496     \n",
            "                                                                 \n",
            " max_pooling2d_2 (MaxPooling  (None, 30, 30, 64)       0         \n",
            " 2D)                                                             \n",
            "                                                                 \n",
            " flatten (Flatten)           (None, 57600)             0         \n",
            "                                                                 \n",
            " dropout (Dropout)           (None, 57600)             0         \n",
            "                                                                 \n",
            " dense (Dense)               (None, 64)                3686464   \n",
            "                                                                 \n",
            " dense_1 (Dense)             (None, 3)                 195       \n",
            "                                                                 \n",
            "=================================================================\n",
            "Total params: 3,715,299\n",
            "Trainable params: 3,715,299\n",
            "Non-trainable params: 0\n",
            "_________________________________________________________________\n"
          ]
        }
      ]
    },
    {
      "cell_type": "code",
      "source": [
        "test_loss = model.evaluate(test_imgs, test_labels)"
      ],
      "metadata": {
        "colab": {
          "base_uri": "https://localhost:8080/"
        },
        "id": "M0JrQY_OdnbP",
        "outputId": "5bc896c0-69fd-489c-da67-0c08452655c7"
      },
      "execution_count": 13,
      "outputs": [
        {
          "output_type": "stream",
          "name": "stdout",
          "text": [
            "22/22 [==============================] - 1s 29ms/step - loss: 1.8646 - accuracy: 0.5615\n"
          ]
        }
      ]
    },
    {
      "cell_type": "code",
      "source": [
        "predictions = model.predict(test_imgs)\n",
        "pred_labels = np.argmax(predictions, axis=1)\n",
        "\n",
        "print(classification_report(test_labels, pred_labels))"
      ],
      "metadata": {
        "colab": {
          "base_uri": "https://localhost:8080/"
        },
        "id": "kVCGNdLOdnd3",
        "outputId": "99fa2954-aa52-44e6-a12d-4b04821d0854"
      },
      "execution_count": 14,
      "outputs": [
        {
          "output_type": "stream",
          "name": "stdout",
          "text": [
            "22/22 [==============================] - 1s 26ms/step\n",
            "              precision    recall  f1-score   support\n",
            "\n",
            "           0       0.56      0.56      0.56       225\n",
            "           1       0.57      0.59      0.58       225\n",
            "           2       0.55      0.54      0.55       225\n",
            "\n",
            "    accuracy                           0.56       675\n",
            "   macro avg       0.56      0.56      0.56       675\n",
            "weighted avg       0.56      0.56      0.56       675\n",
            "\n"
          ]
        }
      ]
    }
  ]
}