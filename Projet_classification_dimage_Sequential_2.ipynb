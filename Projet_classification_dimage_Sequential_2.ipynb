{
  "nbformat": 4,
  "nbformat_minor": 0,
  "metadata": {
    "colab": {
      "provenance": []
    },
    "kernelspec": {
      "name": "python3",
      "display_name": "Python 3"
    },
    "language_info": {
      "name": "python"
    },
    "gpuClass": "standard",
    "accelerator": "GPU"
  },
  "cells": [
    {
      "cell_type": "code",
      "execution_count": 1,
      "metadata": {
        "id": "pQZB-yn7EPs9"
      },
      "outputs": [],
      "source": [
        "import numpy as np\n",
        "import matplotlib.pyplot as plt\n",
        "from sklearn.utils import shuffle\n",
        "\n",
        "# pour accéder aux fichiers\n",
        "import os\n",
        "# faire des opérations sur images\n",
        "import cv2\n",
        "# pour afficher images\n",
        "import PIL\n",
        "\n",
        "import tensorflow as tf\n",
        "from tensorflow import keras\n",
        "from tensorflow.keras import layers\n",
        "\n",
        "# afficher predictions\n",
        "from sklearn.metrics import classification_report"
      ]
    },
    {
      "cell_type": "code",
      "source": [
        "import pathlib\n",
        "import zipfile\n",
        "import tensorflow as tf\n",
        "\n",
        "urls = [\"https://github.com/cai-i/image_classification/raw/train_test/resized_images.zip\"] \n",
        "for url in urls :\n",
        "  data_dir = tf.keras.utils.get_file(origin=url, extract=False)\n",
        "\n",
        "  with zipfile.ZipFile(data_dir, 'r') as zip_ref:\n",
        "    zip_ref.extractall('/content/datasets')"
      ],
      "metadata": {
        "id": "N7nRSOTYEuu4",
        "colab": {
          "base_uri": "https://localhost:8080/"
        },
        "outputId": "5163b02c-9fa7-41b1-a7b0-53d12a267823"
      },
      "execution_count": 2,
      "outputs": [
        {
          "output_type": "stream",
          "name": "stdout",
          "text": [
            "Downloading data from https://github.com/cai-i/image_classification/raw/train_test/resized_images.zip\n",
            "56207202/56207202 [==============================] - 1s 0us/step\n"
          ]
        }
      ]
    },
    {
      "cell_type": "code",
      "source": [
        "data_dir = pathlib.Path('/content/datasets/resized_images')\n",
        "train_dir = pathlib.Path('/content/datasets/resized_images/train')\n",
        "val_dir = pathlib.Path('/content/datasets/resized_images/val')\n",
        "test_dir = pathlib.Path('/content/datasets/resized_images/test')"
      ],
      "metadata": {
        "id": "a1S6r1CxEu0-"
      },
      "execution_count": 3,
      "outputs": []
    },
    {
      "cell_type": "code",
      "source": [
        "class_names = ['abeille', 'guepe', 'frelon']\n",
        "class_names_label = { class_name:i for i, class_name in enumerate(class_names)}\n",
        "\n",
        "print(class_names_label)"
      ],
      "metadata": {
        "id": "Z5UzhaWJE4KK",
        "colab": {
          "base_uri": "https://localhost:8080/"
        },
        "outputId": "1647a281-9cb4-4719-e3a1-028aa9b5341e"
      },
      "execution_count": 4,
      "outputs": [
        {
          "output_type": "stream",
          "name": "stdout",
          "text": [
            "{'abeille': 0, 'guepe': 1, 'frelon': 2}\n"
          ]
        }
      ]
    },
    {
      "cell_type": "code",
      "source": [
        "def load_data():\n",
        "\n",
        "  dir = '/content/datasets/resized_images/'\n",
        "  datasets = ['train', 'val', 'test']\n",
        "\n",
        "  output = []\n",
        "\n",
        "  for dataset in datasets:\n",
        "    path = os.path.join(dir, dataset)\n",
        "    images=[]\n",
        "    labels=[]\n",
        "\n",
        "    for category in os.listdir(path):\n",
        "      label= class_names_label[category]\n",
        "      cat_path = os.path.join(path, category)\n",
        "\n",
        "      for img in os.listdir(cat_path):\n",
        "        img_path = os.path.join(cat_path, img)\n",
        "        image = cv2.imread(img_path)\n",
        "        image = cv2.cvtColor(image, cv2.COLOR_BGR2RGB)\n",
        "        # append to lists\n",
        "        images.append(image)\n",
        "        labels.append(label)\n",
        "    \n",
        "    images = np.array(images, dtype='float32')\n",
        "    labels = np.array(labels, dtype = 'int32')\n",
        "\n",
        "    output.append((images, labels))\n",
        "\n",
        "  return output"
      ],
      "metadata": {
        "id": "efNCHMVpE4M6"
      },
      "execution_count": 5,
      "outputs": []
    },
    {
      "cell_type": "code",
      "source": [
        "(train_imgs, train_labels), (val_imgs, val_labels), (test_imgs, test_labels) = load_data()"
      ],
      "metadata": {
        "id": "jfMdKQajE4PZ"
      },
      "execution_count": 6,
      "outputs": []
    },
    {
      "cell_type": "code",
      "source": [],
      "metadata": {
        "id": "nWAfyA_6E4R8"
      },
      "execution_count": 6,
      "outputs": []
    },
    {
      "cell_type": "code",
      "source": [
        "model = tf.keras.Sequential([\n",
        "    # looking for 32 different features                               3 for 3 different colors\n",
        "    layers.Conv2D(32, (3,3), activation='relu', input_shape= (256,256,3)),\n",
        "    layers.MaxPooling2D(2,2),\n",
        "    layers.Conv2D(32, (3,3), activation='relu'),\n",
        "    layers.MaxPooling2D(2,2),\n",
        "    layers.Flatten(),\n",
        "    layers.Dense(128, activation=tf.nn.relu),\n",
        "    layers.Dense(3, activation=tf.nn.softmax)\n",
        "])"
      ],
      "metadata": {
        "id": "Sd3mPaW9E4Um"
      },
      "execution_count": 7,
      "outputs": []
    },
    {
      "cell_type": "code",
      "source": [
        "model.compile(\n",
        "    optimizer='adam',\n",
        "    loss= 'sparse_categorical_crossentropy',\n",
        "    metrics=['accuracy']\n",
        ")"
      ],
      "metadata": {
        "id": "b4hDtY9LEu4G"
      },
      "execution_count": 8,
      "outputs": []
    },
    {
      "cell_type": "code",
      "source": [
        "history = model.fit(\n",
        "    train_imgs,\n",
        "    train_labels,\n",
        "    batch_size= 32,\n",
        "    epochs=10,\n",
        "    validation_data= (val_imgs,val_labels))"
      ],
      "metadata": {
        "id": "8VrP5sJUEu7Y",
        "colab": {
          "base_uri": "https://localhost:8080/"
        },
        "outputId": "bd7d50b5-4724-4e57-b410-38e527487895"
      },
      "execution_count": 9,
      "outputs": [
        {
          "output_type": "stream",
          "name": "stdout",
          "text": [
            "Epoch 1/10\n",
            "99/99 [==============================] - 15s 68ms/step - loss: 107.1026 - accuracy: 0.3581 - val_loss: 1.0518 - val_accuracy: 0.4341\n",
            "Epoch 2/10\n",
            "99/99 [==============================] - 6s 58ms/step - loss: 0.8294 - accuracy: 0.6549 - val_loss: 1.0450 - val_accuracy: 0.4830\n",
            "Epoch 3/10\n",
            "99/99 [==============================] - 6s 58ms/step - loss: 0.4560 - accuracy: 0.8521 - val_loss: 1.3366 - val_accuracy: 0.5037\n",
            "Epoch 4/10\n",
            "99/99 [==============================] - 6s 58ms/step - loss: 0.1871 - accuracy: 0.9597 - val_loss: 1.5957 - val_accuracy: 0.5081\n",
            "Epoch 5/10\n",
            "99/99 [==============================] - 6s 58ms/step - loss: 0.0773 - accuracy: 0.9886 - val_loss: 1.5344 - val_accuracy: 0.4874\n",
            "Epoch 6/10\n",
            "99/99 [==============================] - 6s 58ms/step - loss: 0.0448 - accuracy: 0.9937 - val_loss: 2.2743 - val_accuracy: 0.4756\n",
            "Epoch 7/10\n",
            "99/99 [==============================] - 6s 59ms/step - loss: 0.0104 - accuracy: 0.9987 - val_loss: 3.2284 - val_accuracy: 0.4844\n",
            "Epoch 8/10\n",
            "99/99 [==============================] - 6s 59ms/step - loss: 0.2437 - accuracy: 0.9756 - val_loss: 2.1421 - val_accuracy: 0.4711\n",
            "Epoch 9/10\n",
            "99/99 [==============================] - 6s 59ms/step - loss: 0.0646 - accuracy: 0.9854 - val_loss: 2.0971 - val_accuracy: 0.4548\n",
            "Epoch 10/10\n",
            "99/99 [==============================] - 6s 59ms/step - loss: 0.0740 - accuracy: 0.9867 - val_loss: 2.3317 - val_accuracy: 0.4844\n"
          ]
        }
      ]
    },
    {
      "cell_type": "code",
      "source": [
        "# pour voir intégralité de notre réseau de neuronnes\n",
        "model.summary()"
      ],
      "metadata": {
        "id": "-8PA3deNGx1F",
        "colab": {
          "base_uri": "https://localhost:8080/"
        },
        "outputId": "587a0406-c1fb-4bd9-e9f7-8f96f60abfb0"
      },
      "execution_count": 10,
      "outputs": [
        {
          "output_type": "stream",
          "name": "stdout",
          "text": [
            "Model: \"sequential\"\n",
            "_________________________________________________________________\n",
            " Layer (type)                Output Shape              Param #   \n",
            "=================================================================\n",
            " conv2d (Conv2D)             (None, 254, 254, 32)      896       \n",
            "                                                                 \n",
            " max_pooling2d (MaxPooling2D  (None, 127, 127, 32)     0         \n",
            " )                                                               \n",
            "                                                                 \n",
            " conv2d_1 (Conv2D)           (None, 125, 125, 32)      9248      \n",
            "                                                                 \n",
            " max_pooling2d_1 (MaxPooling  (None, 62, 62, 32)       0         \n",
            " 2D)                                                             \n",
            "                                                                 \n",
            " flatten (Flatten)           (None, 123008)            0         \n",
            "                                                                 \n",
            " dense (Dense)               (None, 128)               15745152  \n",
            "                                                                 \n",
            " dense_1 (Dense)             (None, 3)                 387       \n",
            "                                                                 \n",
            "=================================================================\n",
            "Total params: 15,755,683\n",
            "Trainable params: 15,755,683\n",
            "Non-trainable params: 0\n",
            "_________________________________________________________________\n"
          ]
        }
      ]
    },
    {
      "cell_type": "code",
      "source": [
        "import matplotlib.pyplot as plt\n",
        "accuracy = history.history[\"accuracy\"]\n",
        "val_accuracy = history.history[\"val_accuracy\"]\n",
        "loss = history.history[\"loss\"]\n",
        "val_loss = history.history[\"val_loss\"]\n",
        "epochs = range(1, len(accuracy) + 1)\n",
        "plt.plot(epochs, accuracy, \"bo\", label=\"Training accuracy\")\n",
        "plt.plot(epochs, val_accuracy, \"b\", label=\"Validation accuracy\")\n",
        "plt.xlabel(\"epochs\")\n",
        "plt.ylabel(\"accuracy\")\n",
        "plt.title(\"Training and validation accuracy\")\n",
        "plt.legend()\n",
        "plt.figure()\n",
        "plt.plot(epochs, loss, \"bo\", label=\"Training loss\")\n",
        "plt.plot(epochs, val_loss, \"b\", label=\"Validation loss\")\n",
        "plt.xlabel(\"epochs\")\n",
        "plt.ylabel(\"loss\")\n",
        "plt.title(\"Training and validation loss\")\n",
        "plt.legend()\n",
        "plt.show()"
      ],
      "metadata": {
        "id": "uhluvdGAEu-q",
        "colab": {
          "base_uri": "https://localhost:8080/",
          "height": 573
        },
        "outputId": "b4a407b1-5898-4811-b7a5-1ac195a66f6f"
      },
      "execution_count": 11,
      "outputs": [
        {
          "output_type": "display_data",
          "data": {
            "text/plain": [
              "<Figure size 432x288 with 1 Axes>"
            ],
            "image/png": "[encoded data removed]"
          },
          "metadata": {
            "needs_background": "light"
          }
        },
        {
          "output_type": "display_data",
          "data": {
            "text/plain": [
              "<Figure size 432x288 with 1 Axes>"
            ],
            "image/png": "[encoded data removed]"
          },
          "metadata": {
            "needs_background": "light"
          }
        }
      ]
    },
    {
      "cell_type": "code",
      "source": [
        "test_loss = model.evaluate(test_imgs, test_labels)"
      ],
      "metadata": {
        "id": "rIWQtmDJGyIQ",
        "colab": {
          "base_uri": "https://localhost:8080/"
        },
        "outputId": "103f32b0-2eb7-4b47-8a10-cd6c0eff91c8"
      },
      "execution_count": 12,
      "outputs": [
        {
          "output_type": "stream",
          "name": "stdout",
          "text": [
            "22/22 [==============================] - 1s 35ms/step - loss: 2.6560 - accuracy: 0.4756\n"
          ]
        }
      ]
    },
    {
      "cell_type": "code",
      "source": [
        "predictions = model.predict(test_imgs)\n",
        "pred_labels = np.argmax(predictions, axis=1)\n",
        "\n",
        "print(classification_report(test_labels, pred_labels))"
      ],
      "metadata": {
        "id": "ugOjM-6mG5Km",
        "colab": {
          "base_uri": "https://localhost:8080/"
        },
        "outputId": "1df11ef1-e179-4b46-d944-c97b913b8cb5"
      },
      "execution_count": 13,
      "outputs": [
        {
          "output_type": "stream",
          "name": "stdout",
          "text": [
            "22/22 [==============================] - 1s 24ms/step\n",
            "              precision    recall  f1-score   support\n",
            "\n",
            "           0       0.56      0.35      0.43       225\n",
            "           1       0.46      0.53      0.49       225\n",
            "           2       0.45      0.55      0.49       225\n",
            "\n",
            "    accuracy                           0.48       675\n",
            "   macro avg       0.49      0.48      0.47       675\n",
            "weighted avg       0.49      0.48      0.47       675\n",
            "\n"
          ]
        }
      ]
    },
    {
      "cell_type": "code",
      "source": [],
      "metadata": {
        "id": "rPVSujHyG5OX"
      },
      "execution_count": 13,
      "outputs": []
    },
    {
      "cell_type": "code",
      "source": [],
      "metadata": {
        "id": "MafPuk_rG5Ro"
      },
      "execution_count": 13,
      "outputs": []
    },
    {
      "cell_type": "code",
      "source": [],
      "metadata": {
        "id": "LHPINOFjG5VX"
      },
      "execution_count": 13,
      "outputs": []
    },
    {
      "cell_type": "code",
      "source": [],
      "metadata": {
        "id": "4iTRo9FcG5Y6"
      },
      "execution_count": 13,
      "outputs": []
    },
    {
      "cell_type": "code",
      "source": [],
      "metadata": {
        "id": "5TYPDp3_GyPi"
      },
      "execution_count": 13,
      "outputs": []
    }
  ]
}